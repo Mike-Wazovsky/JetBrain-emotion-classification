{
  "cells": [
    {
      "cell_type": "markdown",
      "metadata": {
        "id": "view-in-github",
        "colab_type": "text"
      },
      "source": [
        "<a href=\"https://colab.research.google.com/github/Mike-Wazovsky/JetBrain-emotion-classification/blob/main/other_implementations/JetBrains_other_model_1.ipynb\" target=\"_parent\"><img src=\"https://colab.research.google.com/assets/colab-badge.svg\" alt=\"Open In Colab\"/></a>"
      ]
    },
    {
      "cell_type": "code",
      "execution_count": 1,
      "metadata": {
        "id": "kOwbKacCHygp"
      },
      "outputs": [],
      "source": [
        "# Add project path to the PYTHONPATH\n",
        "\n",
        "import os\n",
        "import sys\n",
        "from pathlib import Path\n",
        "\n",
        "sys.path.append(Path(os.path.join(os.path.abspath(''), '../')).resolve().as_posix())"
      ]
    },
    {
      "cell_type": "markdown",
      "metadata": {
        "id": "D4VnHfwjHygq"
      },
      "source": [
        "## Load Dataset\n",
        "\n",
        "Load the emotion labeled dataset"
      ]
    },
    {
      "cell_type": "code",
      "execution_count": 4,
      "metadata": {
        "colab": {
          "base_uri": "https://localhost:8080/"
        },
        "id": "t8-f-cA7Hygr",
        "outputId": "f57a17a7-454e-4756-ac49-12b5a6c34a39"
      },
      "outputs": [
        {
          "output_type": "stream",
          "name": "stdout",
          "text": [
            "Looking in indexes: https://pypi.org/simple, https://us-python.pkg.dev/colab-wheels/public/simple/\n",
            "Collecting nlp\n",
            "  Downloading nlp-0.4.0-py3-none-any.whl (1.7 MB)\n",
            "\u001b[2K     \u001b[90m━━━━━━━━━━━━━━━━━━━━━━━━━━━━━━━━━━━━━━━━\u001b[0m \u001b[32m1.7/1.7 MB\u001b[0m \u001b[31m19.7 MB/s\u001b[0m eta \u001b[36m0:00:00\u001b[0m\n",
            "\u001b[?25hRequirement already satisfied: requests>=2.19.0 in /usr/local/lib/python3.9/dist-packages (from nlp) (2.27.1)\n",
            "Collecting xxhash\n",
            "  Downloading xxhash-3.2.0-cp39-cp39-manylinux_2_17_x86_64.manylinux2014_x86_64.whl (212 kB)\n",
            "\u001b[2K     \u001b[90m━━━━━━━━━━━━━━━━━━━━━━━━━━━━━━━━━━━━━━\u001b[0m \u001b[32m212.2/212.2 KB\u001b[0m \u001b[31m21.3 MB/s\u001b[0m eta \u001b[36m0:00:00\u001b[0m\n",
            "\u001b[?25hRequirement already satisfied: tqdm>=4.27 in /usr/local/lib/python3.9/dist-packages (from nlp) (4.65.0)\n",
            "Requirement already satisfied: pyarrow>=0.16.0 in /usr/local/lib/python3.9/dist-packages (from nlp) (9.0.0)\n",
            "Requirement already satisfied: filelock in /usr/local/lib/python3.9/dist-packages (from nlp) (3.10.1)\n",
            "Requirement already satisfied: numpy in /usr/local/lib/python3.9/dist-packages (from nlp) (1.22.4)\n",
            "Requirement already satisfied: pandas in /usr/local/lib/python3.9/dist-packages (from nlp) (1.4.4)\n",
            "Collecting dill\n",
            "  Downloading dill-0.3.6-py3-none-any.whl (110 kB)\n",
            "\u001b[2K     \u001b[90m━━━━━━━━━━━━━━━━━━━━━━━━━━━━━━━━━━━━━━\u001b[0m \u001b[32m110.5/110.5 KB\u001b[0m \u001b[31m12.9 MB/s\u001b[0m eta \u001b[36m0:00:00\u001b[0m\n",
            "\u001b[?25hRequirement already satisfied: charset-normalizer~=2.0.0 in /usr/local/lib/python3.9/dist-packages (from requests>=2.19.0->nlp) (2.0.12)\n",
            "Requirement already satisfied: urllib3<1.27,>=1.21.1 in /usr/local/lib/python3.9/dist-packages (from requests>=2.19.0->nlp) (1.26.15)\n",
            "Requirement already satisfied: certifi>=2017.4.17 in /usr/local/lib/python3.9/dist-packages (from requests>=2.19.0->nlp) (2022.12.7)\n",
            "Requirement already satisfied: idna<4,>=2.5 in /usr/local/lib/python3.9/dist-packages (from requests>=2.19.0->nlp) (3.4)\n",
            "Requirement already satisfied: python-dateutil>=2.8.1 in /usr/local/lib/python3.9/dist-packages (from pandas->nlp) (2.8.2)\n",
            "Requirement already satisfied: pytz>=2020.1 in /usr/local/lib/python3.9/dist-packages (from pandas->nlp) (2022.7.1)\n",
            "Requirement already satisfied: six>=1.5 in /usr/local/lib/python3.9/dist-packages (from python-dateutil>=2.8.1->pandas->nlp) (1.16.0)\n",
            "Installing collected packages: xxhash, dill, nlp\n",
            "Successfully installed dill-0.3.6 nlp-0.4.0 xxhash-3.2.0\n"
          ]
        }
      ],
      "source": [
        "from pathlib import Path\n",
        "import pandas as pd\n",
        "\n",
        "!pip install nlp\n",
        "\n",
        "from nlp import Dataset"
      ]
    },
    {
      "cell_type": "code",
      "execution_count": 8,
      "metadata": {
        "id": "VjaOI9fRHygs"
      },
      "outputs": [],
      "source": [
        "dataset_path = Path('fb_sentiment.csv').resolve()\n",
        "dataset = pd.read_csv(dataset_path)\n",
        "dataset['label'] = dataset['Label']\n",
        "dataset['text'] = dataset['FBPost']"
      ]
    },
    {
      "cell_type": "code",
      "execution_count": 10,
      "metadata": {
        "colab": {
          "base_uri": "https://localhost:8080/",
          "height": 206
        },
        "id": "X1Hcx0zPHygs",
        "outputId": "f1907139-ab31-4008-9140-09c3f8929c3b"
      },
      "outputs": [
        {
          "output_type": "execute_result",
          "data": {
            "text/plain": [
              "   Unnamed: 0                                             FBPost Label label  \\\n",
              "0           0  Drug Runners and  a U.S. Senator have somethin...     O     O   \n",
              "1           1  Heres a single, to add, to Kindle. Just read t...     O     O   \n",
              "2           2  If you tire of Non-Fiction.. Check out http://...     O     O   \n",
              "3           3    Ghost of Round Island is supposedly nonfiction.     O     O   \n",
              "4           4  Why is Barnes and Nobles version of the Kindle...     N     N   \n",
              "\n",
              "                                                text  \n",
              "0  Drug Runners and  a U.S. Senator have somethin...  \n",
              "1  Heres a single, to add, to Kindle. Just read t...  \n",
              "2  If you tire of Non-Fiction.. Check out http://...  \n",
              "3    Ghost of Round Island is supposedly nonfiction.  \n",
              "4  Why is Barnes and Nobles version of the Kindle...  "
            ],
            "text/html": [
              "\n",
              "  <div id=\"df-62de960b-9d6b-4f9d-a422-0e2816c99020\">\n",
              "    <div class=\"colab-df-container\">\n",
              "      <div>\n",
              "<style scoped>\n",
              "    .dataframe tbody tr th:only-of-type {\n",
              "        vertical-align: middle;\n",
              "    }\n",
              "\n",
              "    .dataframe tbody tr th {\n",
              "        vertical-align: top;\n",
              "    }\n",
              "\n",
              "    .dataframe thead th {\n",
              "        text-align: right;\n",
              "    }\n",
              "</style>\n",
              "<table border=\"1\" class=\"dataframe\">\n",
              "  <thead>\n",
              "    <tr style=\"text-align: right;\">\n",
              "      <th></th>\n",
              "      <th>Unnamed: 0</th>\n",
              "      <th>FBPost</th>\n",
              "      <th>Label</th>\n",
              "      <th>label</th>\n",
              "      <th>text</th>\n",
              "    </tr>\n",
              "  </thead>\n",
              "  <tbody>\n",
              "    <tr>\n",
              "      <th>0</th>\n",
              "      <td>0</td>\n",
              "      <td>Drug Runners and  a U.S. Senator have somethin...</td>\n",
              "      <td>O</td>\n",
              "      <td>O</td>\n",
              "      <td>Drug Runners and  a U.S. Senator have somethin...</td>\n",
              "    </tr>\n",
              "    <tr>\n",
              "      <th>1</th>\n",
              "      <td>1</td>\n",
              "      <td>Heres a single, to add, to Kindle. Just read t...</td>\n",
              "      <td>O</td>\n",
              "      <td>O</td>\n",
              "      <td>Heres a single, to add, to Kindle. Just read t...</td>\n",
              "    </tr>\n",
              "    <tr>\n",
              "      <th>2</th>\n",
              "      <td>2</td>\n",
              "      <td>If you tire of Non-Fiction.. Check out http://...</td>\n",
              "      <td>O</td>\n",
              "      <td>O</td>\n",
              "      <td>If you tire of Non-Fiction.. Check out http://...</td>\n",
              "    </tr>\n",
              "    <tr>\n",
              "      <th>3</th>\n",
              "      <td>3</td>\n",
              "      <td>Ghost of Round Island is supposedly nonfiction.</td>\n",
              "      <td>O</td>\n",
              "      <td>O</td>\n",
              "      <td>Ghost of Round Island is supposedly nonfiction.</td>\n",
              "    </tr>\n",
              "    <tr>\n",
              "      <th>4</th>\n",
              "      <td>4</td>\n",
              "      <td>Why is Barnes and Nobles version of the Kindle...</td>\n",
              "      <td>N</td>\n",
              "      <td>N</td>\n",
              "      <td>Why is Barnes and Nobles version of the Kindle...</td>\n",
              "    </tr>\n",
              "  </tbody>\n",
              "</table>\n",
              "</div>\n",
              "      <button class=\"colab-df-convert\" onclick=\"convertToInteractive('df-62de960b-9d6b-4f9d-a422-0e2816c99020')\"\n",
              "              title=\"Convert this dataframe to an interactive table.\"\n",
              "              style=\"display:none;\">\n",
              "        \n",
              "  <svg xmlns=\"http://www.w3.org/2000/svg\" height=\"24px\"viewBox=\"0 0 24 24\"\n",
              "       width=\"24px\">\n",
              "    <path d=\"M0 0h24v24H0V0z\" fill=\"none\"/>\n",
              "    <path d=\"M18.56 5.44l.94 2.06.94-2.06 2.06-.94-2.06-.94-.94-2.06-.94 2.06-2.06.94zm-11 1L8.5 8.5l.94-2.06 2.06-.94-2.06-.94L8.5 2.5l-.94 2.06-2.06.94zm10 10l.94 2.06.94-2.06 2.06-.94-2.06-.94-.94-2.06-.94 2.06-2.06.94z\"/><path d=\"M17.41 7.96l-1.37-1.37c-.4-.4-.92-.59-1.43-.59-.52 0-1.04.2-1.43.59L10.3 9.45l-7.72 7.72c-.78.78-.78 2.05 0 2.83L4 21.41c.39.39.9.59 1.41.59.51 0 1.02-.2 1.41-.59l7.78-7.78 2.81-2.81c.8-.78.8-2.07 0-2.86zM5.41 20L4 18.59l7.72-7.72 1.47 1.35L5.41 20z\"/>\n",
              "  </svg>\n",
              "      </button>\n",
              "      \n",
              "  <style>\n",
              "    .colab-df-container {\n",
              "      display:flex;\n",
              "      flex-wrap:wrap;\n",
              "      gap: 12px;\n",
              "    }\n",
              "\n",
              "    .colab-df-convert {\n",
              "      background-color: #E8F0FE;\n",
              "      border: none;\n",
              "      border-radius: 50%;\n",
              "      cursor: pointer;\n",
              "      display: none;\n",
              "      fill: #1967D2;\n",
              "      height: 32px;\n",
              "      padding: 0 0 0 0;\n",
              "      width: 32px;\n",
              "    }\n",
              "\n",
              "    .colab-df-convert:hover {\n",
              "      background-color: #E2EBFA;\n",
              "      box-shadow: 0px 1px 2px rgba(60, 64, 67, 0.3), 0px 1px 3px 1px rgba(60, 64, 67, 0.15);\n",
              "      fill: #174EA6;\n",
              "    }\n",
              "\n",
              "    [theme=dark] .colab-df-convert {\n",
              "      background-color: #3B4455;\n",
              "      fill: #D2E3FC;\n",
              "    }\n",
              "\n",
              "    [theme=dark] .colab-df-convert:hover {\n",
              "      background-color: #434B5C;\n",
              "      box-shadow: 0px 1px 3px 1px rgba(0, 0, 0, 0.15);\n",
              "      filter: drop-shadow(0px 1px 2px rgba(0, 0, 0, 0.3));\n",
              "      fill: #FFFFFF;\n",
              "    }\n",
              "  </style>\n",
              "\n",
              "      <script>\n",
              "        const buttonEl =\n",
              "          document.querySelector('#df-62de960b-9d6b-4f9d-a422-0e2816c99020 button.colab-df-convert');\n",
              "        buttonEl.style.display =\n",
              "          google.colab.kernel.accessAllowed ? 'block' : 'none';\n",
              "\n",
              "        async function convertToInteractive(key) {\n",
              "          const element = document.querySelector('#df-62de960b-9d6b-4f9d-a422-0e2816c99020');\n",
              "          const dataTable =\n",
              "            await google.colab.kernel.invokeFunction('convertToInteractive',\n",
              "                                                     [key], {});\n",
              "          if (!dataTable) return;\n",
              "\n",
              "          const docLinkHtml = 'Like what you see? Visit the ' +\n",
              "            '<a target=\"_blank\" href=https://colab.research.google.com/notebooks/data_table.ipynb>data table notebook</a>'\n",
              "            + ' to learn more about interactive tables.';\n",
              "          element.innerHTML = '';\n",
              "          dataTable['output_type'] = 'display_data';\n",
              "          await google.colab.output.renderOutput(dataTable, element);\n",
              "          const docLink = document.createElement('div');\n",
              "          docLink.innerHTML = docLinkHtml;\n",
              "          element.appendChild(docLink);\n",
              "        }\n",
              "      </script>\n",
              "    </div>\n",
              "  </div>\n",
              "  "
            ]
          },
          "metadata": {},
          "execution_count": 10
        }
      ],
      "source": [
        "dataset.head()"
      ]
    },
    {
      "cell_type": "markdown",
      "metadata": {
        "id": "Lrje9UiYHygs"
      },
      "source": [
        "## Tokenize\n",
        "\n",
        "Transform the text corpus to a vector representation\n",
        "\n",
        "- **num_words**: Number of words to use"
      ]
    },
    {
      "cell_type": "code",
      "execution_count": 11,
      "metadata": {
        "id": "31iZLTfAHygs"
      },
      "outputs": [],
      "source": [
        "import pickle\n",
        "from tensorflow.keras.preprocessing.text import Tokenizer"
      ]
    },
    {
      "cell_type": "code",
      "execution_count": 13,
      "metadata": {
        "id": "G_Jh03_OHygt"
      },
      "outputs": [],
      "source": [
        "num_words = 10000\n",
        "\n",
        "tokenizer = Tokenizer(num_words=num_words, lower=True)\n",
        "tokenizer.fit_on_texts(dataset.text)\n",
        "\n",
        "file_to_save = Path('tokenizer.pickle').resolve()\n",
        "with file_to_save.open('wb') as file:\n",
        "    pickle.dump(tokenizer, file)"
      ]
    },
    {
      "cell_type": "markdown",
      "metadata": {
        "id": "nMX-JjzeHygt"
      },
      "source": [
        "## Split data\n",
        "\n",
        "Split the dataset in train and validation data"
      ]
    },
    {
      "cell_type": "code",
      "execution_count": 14,
      "metadata": {
        "id": "LaKtlUyZHygt"
      },
      "outputs": [],
      "source": [
        "from sklearn.model_selection import train_test_split"
      ]
    },
    {
      "cell_type": "code",
      "execution_count": 15,
      "metadata": {
        "id": "M9QIYBdoHygt"
      },
      "outputs": [],
      "source": [
        "data = dataset.copy()\n",
        "\n",
        "train = pd.DataFrame(columns=['label', 'text'])\n",
        "validation = pd.DataFrame(columns=['label', 'text'])\n",
        "for label in data.label.unique():\n",
        "    label_data = data[data.label == label]\n",
        "    train_data, validation_data = train_test_split(label_data, test_size=0.3)\n",
        "    train = pd.concat([train, train_data])\n",
        "    validation = pd.concat([validation, validation_data])"
      ]
    },
    {
      "cell_type": "markdown",
      "metadata": {
        "id": "6jLFWtPKHygu"
      },
      "source": [
        "## Model\n",
        "\n",
        "Define the **LSTM** + **CNN** model"
      ]
    },
    {
      "cell_type": "code",
      "execution_count": 16,
      "metadata": {
        "id": "Hxf0Ru4eHygu"
      },
      "outputs": [],
      "source": [
        "from tensorflow.keras.layers import Input, Embedding, SpatialDropout1D, LSTM\n",
        "from tensorflow.keras.layers import GlobalAveragePooling1D, GlobalMaxPooling1D\n",
        "from tensorflow.keras.layers import Bidirectional, Conv1D, Dense, concatenate\n",
        "from tensorflow.keras.models import Model"
      ]
    },
    {
      "cell_type": "code",
      "execution_count": 17,
      "metadata": {
        "id": "VwR-by6AHygu"
      },
      "outputs": [],
      "source": [
        "input_dim = min(tokenizer.num_words, len(tokenizer.word_index) + 1)\n",
        "num_classes = len(data.label.unique())\n",
        "embedding_dim = 500\n",
        "input_length = 100\n",
        "lstm_units = 128\n",
        "lstm_dropout = 0.1\n",
        "recurrent_dropout = 0.1\n",
        "spatial_dropout=0.2\n",
        "filters=64\n",
        "kernel_size=3"
      ]
    },
    {
      "cell_type": "code",
      "execution_count": 18,
      "metadata": {
        "scrolled": false,
        "id": "CuaXqfNdHygu"
      },
      "outputs": [],
      "source": [
        "input_layer = Input(shape=(input_length,))\n",
        "output_layer = Embedding(\n",
        "  input_dim=input_dim,\n",
        "  output_dim=embedding_dim,\n",
        "  input_shape=(input_length,)\n",
        ")(input_layer)\n",
        "\n",
        "output_layer = SpatialDropout1D(spatial_dropout)(output_layer)\n",
        "\n",
        "output_layer = Bidirectional(\n",
        "LSTM(lstm_units, return_sequences=True,\n",
        "     dropout=lstm_dropout, recurrent_dropout=recurrent_dropout)\n",
        ")(output_layer)\n",
        "output_layer = Conv1D(filters, kernel_size=kernel_size, padding='valid',\n",
        "                    kernel_initializer='glorot_uniform')(output_layer)\n",
        "\n",
        "avg_pool = GlobalAveragePooling1D()(output_layer)\n",
        "max_pool = GlobalMaxPooling1D()(output_layer)\n",
        "output_layer = concatenate([avg_pool, max_pool])\n",
        "\n",
        "output_layer = Dense(num_classes, activation='softmax')(output_layer)\n",
        "\n",
        "model = Model(input_layer, output_layer)"
      ]
    },
    {
      "cell_type": "code",
      "execution_count": 19,
      "metadata": {
        "colab": {
          "base_uri": "https://localhost:8080/"
        },
        "id": "m8hycYwlHygv",
        "outputId": "c4ffd699-8088-484d-a9a4-fec653abff35"
      },
      "outputs": [
        {
          "output_type": "stream",
          "name": "stdout",
          "text": [
            "Model: \"model\"\n",
            "__________________________________________________________________________________________________\n",
            " Layer (type)                   Output Shape         Param #     Connected to                     \n",
            "==================================================================================================\n",
            " input_1 (InputLayer)           [(None, 100)]        0           []                               \n",
            "                                                                                                  \n",
            " embedding (Embedding)          (None, 100, 500)     1464000     ['input_1[0][0]']                \n",
            "                                                                                                  \n",
            " spatial_dropout1d (SpatialDrop  (None, 100, 500)    0           ['embedding[0][0]']              \n",
            " out1D)                                                                                           \n",
            "                                                                                                  \n",
            " bidirectional (Bidirectional)  (None, 100, 256)     644096      ['spatial_dropout1d[0][0]']      \n",
            "                                                                                                  \n",
            " conv1d (Conv1D)                (None, 98, 64)       49216       ['bidirectional[0][0]']          \n",
            "                                                                                                  \n",
            " global_average_pooling1d (Glob  (None, 64)          0           ['conv1d[0][0]']                 \n",
            " alAveragePooling1D)                                                                              \n",
            "                                                                                                  \n",
            " global_max_pooling1d (GlobalMa  (None, 64)          0           ['conv1d[0][0]']                 \n",
            " xPooling1D)                                                                                      \n",
            "                                                                                                  \n",
            " concatenate (Concatenate)      (None, 128)          0           ['global_average_pooling1d[0][0]'\n",
            "                                                                 , 'global_max_pooling1d[0][0]']  \n",
            "                                                                                                  \n",
            " dense (Dense)                  (None, 3)            387         ['concatenate[0][0]']            \n",
            "                                                                                                  \n",
            "==================================================================================================\n",
            "Total params: 2,157,699\n",
            "Trainable params: 2,157,699\n",
            "Non-trainable params: 0\n",
            "__________________________________________________________________________________________________\n"
          ]
        }
      ],
      "source": [
        "model.compile(loss='categorical_crossentropy', optimizer='adam', metrics=['accuracy'])\n",
        "model.summary()"
      ]
    },
    {
      "cell_type": "markdown",
      "metadata": {
        "id": "Wfxck6MdHygv"
      },
      "source": [
        "## Prepare the data\n",
        "\n",
        "Prepare the model input data"
      ]
    },
    {
      "cell_type": "code",
      "execution_count": 20,
      "metadata": {
        "id": "a3wugbf8Hygv"
      },
      "outputs": [],
      "source": [
        "from tensorflow.keras.preprocessing.sequence import pad_sequences\n",
        "from sklearn.preprocessing import LabelBinarizer"
      ]
    },
    {
      "cell_type": "code",
      "execution_count": 23,
      "metadata": {
        "id": "NdlW3QW0Hygv"
      },
      "outputs": [],
      "source": [
        "train_sequences = [text.split() for text in train.text]\n",
        "validation_sequences = [text.split() for text in validation.text]\n",
        "list_tokenized_train = tokenizer.texts_to_sequences(train_sequences)\n",
        "list_tokenized_validation = tokenizer.texts_to_sequences(validation_sequences)\n",
        "x_train = pad_sequences(list_tokenized_train, maxlen=input_length)\n",
        "x_validation = pad_sequences(list_tokenized_validation, maxlen=input_length)\n",
        "\n",
        "encoder = LabelBinarizer()\n",
        "encoder.fit(data.label.unique())\n",
        "\n",
        "encoder_path = Path('encoder.pickle')\n",
        "with encoder_path.open('wb') as file:\n",
        "    pickle.dump(encoder, file)\n",
        "\n",
        "y_train = encoder.transform(train.label)\n",
        "y_validation = encoder.transform(validation.label)"
      ]
    },
    {
      "cell_type": "markdown",
      "metadata": {
        "id": "jxvgysUMHygw"
      },
      "source": [
        "## Train model\n",
        "\n",
        "Do the training process with the given data"
      ]
    },
    {
      "cell_type": "code",
      "execution_count": 24,
      "metadata": {
        "id": "jCOAIVZkHygw"
      },
      "outputs": [],
      "source": [
        "batch_size = 128\n",
        "epochs = 1"
      ]
    },
    {
      "cell_type": "code",
      "execution_count": 25,
      "metadata": {
        "colab": {
          "base_uri": "https://localhost:8080/"
        },
        "id": "3i1NiahRHygw",
        "outputId": "62b0200b-728a-4f0b-afb5-235550ef8d9e"
      },
      "outputs": [
        {
          "output_type": "stream",
          "name": "stdout",
          "text": [
            "6/6 [==============================] - 30s 3s/step - loss: 0.9353 - accuracy: 0.6295 - val_loss: 0.8692 - val_accuracy: 0.6412\n"
          ]
        },
        {
          "output_type": "execute_result",
          "data": {
            "text/plain": [
              "<keras.callbacks.History at 0x7f5c0831ee80>"
            ]
          },
          "metadata": {},
          "execution_count": 25
        }
      ],
      "source": [
        "model.fit(\n",
        "    x_train,\n",
        "    y=y_train,\n",
        "    batch_size=batch_size,\n",
        "    epochs=epochs,\n",
        "    validation_data=(x_validation, y_validation)\n",
        ")"
      ]
    },
    {
      "cell_type": "code",
      "execution_count": null,
      "metadata": {
        "id": "pNdYUOorHygw"
      },
      "outputs": [],
      "source": [
        "model_file = Path('../models/emotion_recognition/model_weights.h5').resolve()\n",
        "model.save_weights(model_file.as_posix())"
      ]
    },
    {
      "cell_type": "code",
      "execution_count": null,
      "metadata": {
        "id": "R1SzrxgjHygw"
      },
      "outputs": [],
      "source": []
    }
  ],
  "metadata": {
    "kernelspec": {
      "display_name": "Python 3",
      "language": "python",
      "name": "python3"
    },
    "language_info": {
      "codemirror_mode": {
        "name": "ipython",
        "version": 3
      },
      "file_extension": ".py",
      "mimetype": "text/x-python",
      "name": "python",
      "nbconvert_exporter": "python",
      "pygments_lexer": "ipython3",
      "version": "3.6.8"
    },
    "colab": {
      "provenance": [],
      "include_colab_link": true
    }
  },
  "nbformat": 4,
  "nbformat_minor": 0
}